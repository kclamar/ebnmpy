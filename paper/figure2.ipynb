{
 "cells": [
  {
   "cell_type": "code",
   "execution_count": null,
   "id": "af5aa2f9",
   "metadata": {},
   "outputs": [],
   "source": [
    "from timeit import timeit\n",
    "\n",
    "import numpy as np\n",
    "\n",
    "from scipy import stats\n",
    "from ebnmpy.estimators import estimators"
   ]
  },
  {
   "cell_type": "code",
   "execution_count": null,
   "id": "375ead01",
   "metadata": {},
   "outputs": [],
   "source": [
    "def sample_point_t(n, pi0=.8, df=5, scale=1.5):\n",
    "    not_delta = stats.bernoulli.rvs(pi0, size=n) == 0\n",
    "    z = np.zeros(n)\n",
    "    z[not_delta] = stats.t.rvs(df=df, scale=scale, size=not_delta.sum())\n",
    "    return z"
   ]
  },
  {
   "cell_type": "code",
   "execution_count": null,
   "id": "fe69eed7",
   "metadata": {},
   "outputs": [],
   "source": [
    "np.random.seed(0)\n",
    "s = 1\n",
    "n_repetitions = 5\n",
    "\n",
    "n_list = (10 ** np.arange(2, 5.5, .5)).astype(int)\n",
    "results = []\n",
    "\n",
    "for n in n_list:\n",
    "    x = sample_point_t(n) + stats.norm.rvs(size=n)\n",
    "\n",
    "    for cls in estimators.values():\n",
    "        t = timeit(lambda: cls().fit(x=x, s=s), number=n_repetitions) / n_repetitions\n",
    "        results.append((cls.__name__, n, t))"
   ]
  },
  {
   "cell_type": "code",
   "execution_count": null,
   "id": "e1a469d9",
   "metadata": {},
   "outputs": [],
   "source": [
    "import pandas as pd\n",
    "\n",
    "df = pd.DataFrame(results, columns=(\"ebnmpy class\", \"Number of observations\", \"Time elapsed (s)\"))\n",
    "df[\"Time elapsed (s)\"] = df[\"Time elapsed (s)\"]"
   ]
  },
  {
   "cell_type": "code",
   "execution_count": null,
   "id": "9b279a2f",
   "metadata": {},
   "outputs": [],
   "source": [
    "import seaborn as sns\n",
    "import matplotlib.pyplot as plt\n",
    "\n",
    "plt.style.use(\"ggplot\")\n",
    "plt.rcParams[\"axes.facecolor\"] = \"w\"\n",
    "plt.rcParams[\"grid.color\"] = \"lightgray\"\n",
    "plt.rcParams[\"axes.labelcolor\"] = \"k\"\n",
    "plt.rcParams[\"font.sans-serif\"] = \"Arial\"\n",
    "plt.rcParams[\"xtick.labelcolor\"] = \"k\"\n",
    "plt.rcParams[\"xtick.major.size\"] = 0\n",
    "plt.rcParams[\"ytick.major.size\"] = 0\n",
    "plt.rcParams[\"xtick.minor.size\"] = 0\n",
    "plt.rcParams[\"ytick.minor.size\"] = 0"
   ]
  },
  {
   "cell_type": "code",
   "execution_count": null,
   "id": "a21edfd3",
   "metadata": {},
   "outputs": [],
   "source": [
    "fig = plt.figure(figsize=(4, 3))\n",
    "ax = sns.lineplot(data=df, x=\"Number of observations\", y=\"Time elapsed (s)\", hue=\"ebnmpy class\", marker=\".\", markersize=10,\n",
    "                  palette=sns.palettes.husl_palette(len(estimators)), mew=0)\n",
    "ax.set_xscale(\"log\")\n",
    "ax.set_yscale(\"log\")\n",
    "ax.legend(bbox_to_anchor=(1, .5), loc=\"center left\", frameon=False, numpoints=1)\n",
    "ax.set_xticks(n_list, minor=True)\n",
    "ax.set_yticks(10 ** np.array([-.5, -1.5, -2.5]), minor=True)\n",
    "ax.grid(which='minor', alpha=0.2)\n",
    "ax.grid(which='major', alpha=0.5)\n",
    "for h in ax.legend_.legendHandles: \n",
    "    h.set_marker('.')\n",
    "    h.set_markersize(10)\n",
    "fig.savefig(\"figure2.png\", dpi=300, bbox_inches=\"tight\", pad_inches=0)"
   ]
  },
  {
   "cell_type": "code",
   "execution_count": null,
   "id": "442d384c",
   "metadata": {},
   "outputs": [],
   "source": []
  }
 ],
 "metadata": {
  "kernelspec": {
   "display_name": "Python 3 (ipykernel)",
   "language": "python",
   "name": "python3"
  },
  "language_info": {
   "codemirror_mode": {
    "name": "ipython",
    "version": 3
   },
   "file_extension": ".py",
   "mimetype": "text/x-python",
   "name": "python",
   "nbconvert_exporter": "python",
   "pygments_lexer": "ipython3",
   "version": "3.8.12"
  }
 },
 "nbformat": 4,
 "nbformat_minor": 5
}
