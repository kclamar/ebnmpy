{
 "cells": [
  {
   "cell_type": "code",
   "execution_count": null,
   "id": "e0fe8e42",
   "metadata": {},
   "outputs": [],
   "source": [
    "import matplotlib.pyplot as plt\n",
    "import numpy as np\n",
    "from scipy import stats\n",
    "from ebnmpy.estimators import estimators\n",
    "import pandas as pd"
   ]
  },
  {
   "cell_type": "code",
   "execution_count": null,
   "id": "ca45a753",
   "metadata": {},
   "outputs": [],
   "source": [
    "def sample_point_normal(n, pi0=.9, mu=0, sigma=2):\n",
    "    not_delta = stats.bernoulli.rvs(pi0, size=n) == 0\n",
    "    z = np.full(n, mu, dtype=float)\n",
    "    z[not_delta] = stats.norm.rvs(mu, sigma, size=not_delta.sum())\n",
    "    return z"
   ]
  },
  {
   "cell_type": "code",
   "execution_count": null,
   "id": "5cc1d87e",
   "metadata": {},
   "outputs": [],
   "source": [
    "def sample_point_t(n, pi0=.8, df=5, scale=1.5):\n",
    "    not_delta = stats.bernoulli.rvs(pi0, size=n) == 0\n",
    "    z = np.zeros(n)\n",
    "    z[not_delta] = stats.t.rvs(df=df, scale=scale, size=not_delta.sum())\n",
    "    return z"
   ]
  },
  {
   "cell_type": "code",
   "execution_count": null,
   "id": "f6facd55",
   "metadata": {},
   "outputs": [],
   "source": [
    "def sample_assymetric_tophat(n, pi0=.5, a=-5, b=10):\n",
    "    not_delta = stats.bernoulli.rvs(pi0, size=n) == 0\n",
    "    z = np.zeros(n)\n",
    "    z[not_delta] = stats.uniform.rvs(a, b - a, size=not_delta.sum())\n",
    "    return z"
   ]
  },
  {
   "cell_type": "code",
   "execution_count": null,
   "id": "70a723fe",
   "metadata": {},
   "outputs": [],
   "source": [
    "def get_rmse(theta, theta_hat):\n",
    "    return np.sqrt(np.mean((theta_hat - theta) ** 2))"
   ]
  },
  {
   "cell_type": "code",
   "execution_count": null,
   "id": "13fb78c5",
   "metadata": {},
   "outputs": [],
   "source": [
    "def get_clcov(theta, samples, intervals=(.05, .95)):\n",
    "    lower = np.quantile(samples, intervals[0], axis=0)\n",
    "    upper = np.quantile(samples, intervals[1], axis=0)\n",
    "    return ((theta >= lower) & (theta < upper)).mean()"
   ]
  },
  {
   "cell_type": "code",
   "execution_count": null,
   "id": "804fa192",
   "metadata": {},
   "outputs": [],
   "source": [
    "from tqdm import tqdm"
   ]
  },
  {
   "cell_type": "code",
   "execution_count": null,
   "id": "d5183eac",
   "metadata": {},
   "outputs": [],
   "source": [
    "s = 1\n",
    "n = 1000\n",
    "n_posterior_samples = 1001\n",
    "n_simulations = 10"
   ]
  },
  {
   "cell_type": "code",
   "execution_count": null,
   "id": "a3e9b001",
   "metadata": {},
   "outputs": [],
   "source": [
    "np.random.seed(0)"
   ]
  },
  {
   "cell_type": "code",
   "execution_count": null,
   "id": "379d60d9",
   "metadata": {},
   "outputs": [],
   "source": [
    "samplers = {\n",
    "    \"Point-normal\": sample_point_normal,\n",
    "    \"Point-t\": sample_point_t,\n",
    "    \"Asymmetric tophat\": sample_assymetric_tophat,\n",
    "}\n",
    "\n",
    "results = []\n",
    "\n",
    "for _ in tqdm(range(n_simulations)):\n",
    "    for sampler_name, sampler in samplers.items():\n",
    "        theta = sampler(n)\n",
    "        x = theta + stats.norm.rvs(size=n)\n",
    "\n",
    "        for cls_name, cls in estimators.items():\n",
    "            est = cls(include_posterior_sampler=True).fit(x=x, s=s)\n",
    "            samples = est.sample(n_posterior_samples)\n",
    "\n",
    "            loglik = est.log_likelihood_\n",
    "            rmse = get_rmse(theta, theta_hat=est.posterior_[\"mean\"])\n",
    "            clcov = get_clcov(theta, samples)\n",
    "\n",
    "            results.append((sampler_name, cls.__name__, loglik, rmse, clcov))"
   ]
  },
  {
   "cell_type": "code",
   "execution_count": null,
   "id": "b9bd3866",
   "metadata": {},
   "outputs": [],
   "source": [
    "cls = estimators[\"normal\"]"
   ]
  },
  {
   "cell_type": "code",
   "execution_count": null,
   "id": "ca1342ae",
   "metadata": {},
   "outputs": [],
   "source": [
    "est = cls(include_posterior_sampler=True, mode=\"estimate\").fit(x=x, s=s)\n",
    "samples = est.sample(n_posterior_samples)"
   ]
  }
 ],
 "metadata": {
  "kernelspec": {
   "display_name": "Python 3 (ipykernel)",
   "language": "python",
   "name": "python3"
  },
  "language_info": {
   "codemirror_mode": {
    "name": "ipython",
    "version": 3
   },
   "file_extension": ".py",
   "mimetype": "text/x-python",
   "name": "python",
   "nbconvert_exporter": "python",
   "pygments_lexer": "ipython3",
   "version": "3.8.8"
  }
 },
 "nbformat": 4,
 "nbformat_minor": 5
}
