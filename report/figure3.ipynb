{
 "cells": [
  {
   "cell_type": "code",
   "execution_count": null,
   "id": "76ae34a7",
   "metadata": {},
   "outputs": [],
   "source": [
    "import numpy as np\n",
    "from ebnmpy.estimators import PointNormalEBNM\n",
    "\n",
    "np.random.seed(8)\n",
    "\n",
    "x = np.array([28, 8, -3, 7, -1, 1, 18, 12])\n",
    "s = np.array([15, 10, 16, 11, 9, 11, 10, 18])\n",
    "n = len(x)\n",
    "\n",
    "ebnm_res_mode0 = PointNormalEBNM(mode=0, include_posterior_sampler=True).fit(x=x, s=s)\n",
    "\n",
    "nsamp = 10000\n",
    "mode0_samp = ebnm_res_mode0.sample(nsamp)\n",
    "mode0_CI = np.quantile(mode0_samp, (.025, .975), axis=0)\n",
    "\n",
    "ebnm_res_estmode = PointNormalEBNM(mode=\"estimate\", include_posterior_sampler=True).fit(x=x, s=s)\n",
    "estmode_samp = ebnm_res_estmode.sample(nsamp)\n",
    "estmode_CI = np.quantile(estmode_samp, (.025, .975), axis=0)"
   ]
  },
  {
   "cell_type": "code",
   "execution_count": null,
   "id": "aba30e4e",
   "metadata": {},
   "outputs": [],
   "source": [
    "import matplotlib.pyplot as plt\n",
    "\n",
    "%config InlineBackend.figure_formats = [\"svg\"]\n",
    "\n",
    "plt.style.use(\"ggplot\")\n",
    "plt.rcParams[\"axes.facecolor\"] = \"w\"\n",
    "plt.rcParams[\"grid.color\"] = \"lightgray\"\n",
    "plt.rcParams[\"axes.labelcolor\"] = \"k\"\n",
    "plt.rcParams[\"font.sans-serif\"] = \"Arial\"\n",
    "plt.rcParams[\"xtick.labelcolor\"] = \"k\"\n",
    "plt.rcParams[\"xtick.major.size\"] = 0\n",
    "plt.rcParams[\"ytick.major.size\"] = 0\n",
    "plt.rcParams[\"xtick.minor.size\"] = 0\n",
    "plt.rcParams[\"ytick.minor.size\"] = 0\n",
    "plt.rcParams[\"axes.titlesize\"] = \"medium\""
   ]
  },
  {
   "cell_type": "code",
   "execution_count": null,
   "id": "46dacd5a",
   "metadata": {},
   "outputs": [],
   "source": [
    "idx = np.arange(n)\n",
    "fig, axes = plt.subplots(1, 2, figsize=(7.5, 4), sharex=\"all\", sharey=\"all\")\n",
    "\n",
    "for ax in axes:\n",
    "    ax.errorbar(idx, x, yerr=2 * s, marker=\"o\", linestyle=\"none\", c=\"k\", capsize=8, lw=1, capthick=1)\n",
    "    ax.set_xticks(idx)\n",
    "    ax.set_xticklabels(list(map(chr, idx + 65)))\n",
    "    ax.set_xmargin(.1)\n",
    "\n",
    "ax = axes[0]\n",
    "ax.set_title(\"mode = 0\")\n",
    "ax.set_ylabel(\"Treatment effect\")\n",
    "ax.errorbar(idx, ebnm_res_mode0.posterior_[\"mean\"],\n",
    "            yerr=mode0_CI - ebnm_res_mode0.posterior_[\"mean\"],\n",
    "            marker=\"o\", linestyle=\"none\", c=\"r\", capsize=8, lw=1, capthick=1)\n",
    "\n",
    "ax = axes[1]\n",
    "ax.set_title('mode = \"estimate\"')\n",
    "ax.errorbar(idx, ebnm_res_estmode.posterior_[\"mean\"],\n",
    "            yerr=estmode_CI - ebnm_res_estmode.posterior_[\"mean\"],\n",
    "            marker=\"o\", linestyle=\"none\", c=\"r\", capsize=8, lw=1, capthick=1)\n",
    "    \n",
    "fig.supxlabel(\"School\")\n",
    "fig.savefig(\"figure3.png\", dpi=300, bbox_inches=\"tight\", pad_inches=0)"
   ]
  },
  {
   "cell_type": "code",
   "execution_count": null,
   "id": "04a7683a",
   "metadata": {},
   "outputs": [],
   "source": []
  }
 ],
 "metadata": {
  "kernelspec": {
   "display_name": "Python 3 (ipykernel)",
   "language": "python",
   "name": "python3"
  },
  "language_info": {
   "codemirror_mode": {
    "name": "ipython",
    "version": 3
   },
   "file_extension": ".py",
   "mimetype": "text/x-python",
   "name": "python",
   "nbconvert_exporter": "python",
   "pygments_lexer": "ipython3",
   "version": "3.8.12"
  }
 },
 "nbformat": 4,
 "nbformat_minor": 5
}
